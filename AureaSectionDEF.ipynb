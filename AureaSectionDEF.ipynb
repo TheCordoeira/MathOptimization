{
 "cells": [
  {
   "cell_type": "markdown",
   "metadata": {},
   "source": [
    "## Código para optimização de funções pelo Método da Seção Áurea"
   ]
  },
  {
   "cell_type": "markdown",
   "metadata": {},
   "source": [
    "É de extrema importântica que as bibliotecas estejam instaladas corretamente.\n",
    "Caso necessário, utilize o célula abaixo"
   ]
  },
  {
   "cell_type": "code",
   "execution_count": null,
   "metadata": {},
   "outputs": [],
   "source": [
    "!pip install tabulate\n",
    "!pip install sympy\n",
    "!pip install numpy"
   ]
  },
  {
   "cell_type": "markdown",
   "metadata": {},
   "source": [
    "Verificada a instalação, podemos prosseguir com a compilação"
   ]
  },
  {
   "cell_type": "code",
   "execution_count": 1,
   "metadata": {},
   "outputs": [],
   "source": [
    "#Import das bibliotecas necessárias\n",
    "\n",
    "import math\n",
    "from tabulate import tabulate\n",
    "from sympy import sympify, lambdify, symbols"
   ]
  },
  {
   "cell_type": "code",
   "execution_count": 3,
   "metadata": {},
   "outputs": [],
   "source": [
    "#Definição da Função de Otimização\n",
    "\n",
    "def optAureaUni(f, a, b, max_iter = 100, tol = 1e-6):\n",
    "    from math import sqrt\n",
    "\n",
    "    phi = (1 + math.sqrt(5))/2\n",
    "    x1 = a + (phi - 1) *(b-a)\n",
    "    x2 = a + (1 - (phi-1)) * (b-a)\n",
    "\n",
    "    iter_res = []\n",
    "\n",
    "\n",
    "#Algoritmo de otimização\n",
    "    for i in range(max_iter):\n",
    "        if abs(b-a) < tol:\n",
    "            break\n",
    "\n",
    "        if f(x1)<f(x2):\n",
    "            a = x1\n",
    "            x1 = x2\n",
    "            x2 = a + (1 - (phi - 1))*(b-a)\n",
    "        else:\n",
    "            b = x2\n",
    "            x2 = x1\n",
    "            x1 = a + (phi - 1)*(b-a)\n",
    "\n",
    "        iter_res.append([i, a, b, x1, x2, f(x1), f(x2)])\n",
    "    \n",
    "    x_max = (a+b)/2\n",
    "    y_max = f(x_max)\n",
    "\n",
    "    print('Output')\n",
    "    print(f'Máximo encontrado em x = {x_max}, y = {y_max}')\n",
    "    \n",
    "    alter = input('Deseja exibir a tabela de iterações? [y/N] ')\n",
    "\n",
    "    if alter == 'y':\n",
    "        cabecalho = ['Iteração', 'a', 'b', 'x1','x2','f(x1)','f(x2)']\n",
    "        print(tabulate(iter_res, cabecalho, tablefmt = 'grid'))\n",
    "        print('FIM DA COMPILAÇÃO')\n",
    "    else:\n",
    "        print('FIM DA COMPILAÇÃO')"
   ]
  },
  {
   "cell_type": "code",
   "execution_count": null,
   "metadata": {},
   "outputs": [],
   "source": [
    "#Programa para inicialização de terminal\n",
    "\n",
    "print('Insira os parâmetros pedidos: \\n')\n",
    "\n",
    "string_equacao = input('Insira a função f(x): ')\n",
    "print('Insira o intervalo de busca [a,b]: ')\n",
    "a = input()\n",
    "b = input()\n",
    "a = int(a)\n",
    "b = int(b)\n",
    "#bloco de conversão da função f(x)\n",
    "\n",
    "x = symbols('x')\n",
    "equacao = sympify(string_equacao)\n",
    "\n",
    "f = lambdify(x, equacao, 'numpy')\n",
    "\n",
    "optAureaUni(f, a, b, max_iter = 100, tol = 1e-6)\n",
    "\n"
   ]
  }
 ],
 "metadata": {
  "kernelspec": {
   "display_name": "Python 3",
   "language": "python",
   "name": "python3"
  },
  "language_info": {
   "codemirror_mode": {
    "name": "ipython",
    "version": 3
   },
   "file_extension": ".py",
   "mimetype": "text/x-python",
   "name": "python",
   "nbconvert_exporter": "python",
   "pygments_lexer": "ipython3",
   "version": "3.11.6"
  }
 },
 "nbformat": 4,
 "nbformat_minor": 2
}
